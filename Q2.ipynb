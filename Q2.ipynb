{
 "cells": [
  {
   "cell_type": "code",
   "execution_count": 1,
   "id": "a28786dc",
   "metadata": {},
   "outputs": [
    {
     "name": "stdout",
     "output_type": "stream",
     "text": [
      "كم عدد العناصر التي تريد إضافتها إلى الطابور؟ 1\n",
      "أدخل العنصر 1: 2\n",
      "محتويات الطابور:\n",
      "2\n",
      "هل تريد حذف عنصر من الطابور؟ (نعم/لا): 1\n",
      "محتويات الطابور المتبقية:\n",
      "2\n"
     ]
    }
   ],
   "source": [
    "import queue\n",
    "\n",
    "# إنشاء طابور فارغ\n",
    "q = queue.Queue()\n",
    "\n",
    "# تحديد عدد العناصر التي سيتم إدخالها\n",
    "num_elements = int(input(\"كم عدد العناصر التي تريد إضافتها إلى الطابور؟ \"))\n",
    "\n",
    "# إدخال العناصر من المستخدم\n",
    "for i in range(num_elements):\n",
    "    item = input(f\"أدخل العنصر {i+1}: \")\n",
    "    q.put(item)\n",
    "\n",
    "# عرض محتويات الطابور\n",
    "print(\"محتويات الطابور:\")\n",
    "for i in range(num_elements):\n",
    "    print(q.queue[i])\n",
    "\n",
    "# حذف العناصر من الطابور بناءً على طلب المستخدم\n",
    "while not q.empty():\n",
    "    remove = input(\"هل تريد حذف عنصر من الطابور؟ (نعم/لا): \").lower()\n",
    "    if remove == 'نعم':\n",
    "        removed_item = q.get()\n",
    "        print(f\"تم حذف العنصر: {removed_item}\")\n",
    "    else:\n",
    "        break\n",
    "\n",
    "# عرض محتويات الطابور بعد الحذف\n",
    "if q.empty():\n",
    "    print(\"الطابور الآن فارغ.\")\n",
    "else:\n",
    "    print(\"محتويات الطابور المتبقية:\")\n",
    "    for i in range(q.qsize()):\n",
    "        print(q.queue[i])\n"
   ]
  },
  {
   "cell_type": "code",
   "execution_count": null,
   "id": "a945eb3b",
   "metadata": {},
   "outputs": [],
   "source": []
  }
 ],
 "metadata": {
  "kernelspec": {
   "display_name": "Python 3 (ipykernel)",
   "language": "python",
   "name": "python3"
  },
  "language_info": {
   "codemirror_mode": {
    "name": "ipython",
    "version": 3
   },
   "file_extension": ".py",
   "mimetype": "text/x-python",
   "name": "python",
   "nbconvert_exporter": "python",
   "pygments_lexer": "ipython3",
   "version": "3.11.5"
  }
 },
 "nbformat": 4,
 "nbformat_minor": 5
}
